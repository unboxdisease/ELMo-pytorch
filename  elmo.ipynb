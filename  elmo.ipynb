{
 "cells": [
  {
   "cell_type": "code",
   "execution_count": null,
   "metadata": {},
   "outputs": [],
   "source": [
    "import os\n",
    "import gensim\n",
    "from collections import Counter\n",
    "import json\n",
    "\n",
    "train_path = \"./aclImdb/train\"\n",
    "test_path = \"./aclImdb/test\"\n",
    "\n",
    "#simple function which read the data from directory and return data and label\n",
    "# you can make your own reader for other dataset.\n",
    "def reader(path):\n",
    "\tpos_path = os.path.join(path, \"pos\")\n",
    "\tneg_path = os.path.join(path, \"neg\")\n",
    "\tdata = []\n",
    "\tlabel = []\n",
    "\tfor file in os.listdir(pos_path):\n",
    "\t\tf = open(os.path.join(pos_path, file))\n",
    "\t\tdata.append(f.read())\n",
    "\t\tlabel.append(1)\n",
    "\tfor file in os.listdir(neg_path):\n",
    "\t\tf = open(os.path.join(neg_path, file))\n",
    "\t\tdata.append(f.read())\n",
    "\t\tlabel.append(0)\n",
    "\t# print(data[:1])\n",
    "\treturn data, label\n",
    "\n",
    "def build_vocab(data, min_word_count = 5):\n",
    "\tcounter = Counter()\n",
    "\tfor line in data:\n",
    "\t\tl = gensim.utils.simple_preprocess(line)\n",
    "\t\tcounter.update(l)\n",
    "\t#initialise a dictionary or look up table\n",
    "\tword2id = {}\n",
    "\tword2id['<pad>'] = 0\n",
    "\tword2id['<unk>'] = 1\n",
    "\t# include only those in dictionary which have occered more than min word count in the entire data.\n",
    "\twords = [word for word, count in counter.items() if count>min_word_count]\n",
    "\n",
    "\tfor i, word in enumerate(words):\n",
    "\t\tword2id[word] = i+2\n",
    "\t\n",
    "\twith open(\"word2id.json\", 'w') as f:\n",
    "\t\tjson.dump(word2id, f)\n",
    "\treturn word2id\n",
    "\n",
    "data, label = reader(train_path)\n",
    "word2id = build_vocab(data)\n",
    "print(\"Dictionary Formed and saved. The length of dictionary is-: \", len(word2id))"
   ]
  }
 ],
 "metadata": {
  "kernelspec": {
   "display_name": "Python 3.9.12 ('base')",
   "language": "python",
   "name": "python3"
  },
  "language_info": {
   "name": "python",
   "version": "3.9.12"
  },
  "orig_nbformat": 4,
  "vscode": {
   "interpreter": {
    "hash": "bdd9074d09183e8bc0025300cef7a83eb88924cf0a158e90afa6b5f04cbbd876"
   }
  }
 },
 "nbformat": 4,
 "nbformat_minor": 2
}
