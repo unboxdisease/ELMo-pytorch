{
 "cells": [
  {
   "cell_type": "code",
   "execution_count": 9,
   "metadata": {},
   "outputs": [
    {
     "data": {
      "text/plain": [
       "<All keys matched successfully>"
      ]
     },
     "execution_count": 9,
     "metadata": {},
     "output_type": "execute_result"
    }
   ],
   "source": [
    "from torch.utils.data import Dataset, DataLoader\n",
    "import numpy as np\n",
    "from dataset import Dataset_seq,build_vocab\n",
    "\n",
    "import torch\n",
    "import torch.nn as nn\n",
    "from torch import optim\n",
    "import time\n",
    "from model import Bi_RNN\n",
    "\n",
    "import wandb\n",
    "\n",
    "\n",
    "model = model.load_state_dict(torch.load('./models/model_20.pt'))\n",
    "def csv_to_dataframe(path):\n",
    "    df = pd.read_csv(path, sep=',', header=None)\n",
    "    df.columns = ['label', 'text']\n",
    "    df = df[1:]\n",
    "    for idx, row in enumerate(df.text):\n",
    "        df.iloc[idx].text = cleanup_text(row)\n",
    "\n",
    "\n",
    "    return df\n",
    "\n",
    "\n",
    "yelp_train = csv_to_dataframe(pwd + \"yelp-subset.train.csv\")\n",
    "yelp_test = csv_to_dataframe(pwd + \"yelp-subset.test.csv\")\n",
    "yelp_val = csv_to_dataframe(pwd + \"yelp-subset.dev.csv\")"
   ]
  },
  {
   "cell_type": "code",
   "execution_count": null,
   "metadata": {},
   "outputs": [],
   "source": []
  },
  {
   "cell_type": "code",
   "execution_count": null,
   "metadata": {},
   "outputs": [],
   "source": []
  },
  {
   "cell_type": "code",
   "execution_count": 6,
   "metadata": {},
   "outputs": [],
   "source": []
  },
  {
   "cell_type": "code",
   "execution_count": 7,
   "metadata": {},
   "outputs": [
    {
     "data": {
      "text/plain": [
       "501"
      ]
     },
     "execution_count": 7,
     "metadata": {},
     "output_type": "execute_result"
    }
   ],
   "source": []
  },
  {
   "cell_type": "code",
   "execution_count": null,
   "metadata": {},
   "outputs": [],
   "source": []
  }
 ],
 "metadata": {
  "kernelspec": {
   "display_name": "Python 3 (ipykernel)",
   "language": "python",
   "name": "python3"
  },
  "language_info": {
   "codemirror_mode": {
    "name": "ipython",
    "version": 3
   },
   "file_extension": ".py",
   "mimetype": "text/x-python",
   "name": "python",
   "nbconvert_exporter": "python",
   "pygments_lexer": "ipython3",
   "version": "3.8.8"
  },
  "vscode": {
   "interpreter": {
    "hash": "bdd9074d09183e8bc0025300cef7a83eb88924cf0a158e90afa6b5f04cbbd876"
   }
  }
 },
 "nbformat": 4,
 "nbformat_minor": 4
}
