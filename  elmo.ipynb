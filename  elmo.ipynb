{
 "cells": [
  {
   "cell_type": "code",
   "execution_count": 2,
   "metadata": {},
   "outputs": [
    {
     "name": "stdout",
     "output_type": "stream",
     "text": [
      "Dictionary Formed and saved. The length of dictionary is-:  9773\n"
     ]
    }
   ],
   "source": [
    "# from msilib import sequence\n",
    "import os\n",
    "import gensim\n",
    "from collections import Counter\n",
    "import json\n",
    "import torch\n",
    "\n",
    "sequence_length = 20\n",
    "train_path = \"./Dataset/yelp-subset.train.csv\"\n",
    "test_path = \"./Dataset/yelp-subset.test.csv\"\n",
    "#setup Glove word embeddings\n",
    "with open('glove.6B/glove.6B.50d.txt', 'r') as f:\n",
    "    lines = f.readlines()\n",
    "\n",
    "glove = dict()\n",
    "\n",
    "for line in lines:\n",
    "    items = line.split()\n",
    "    word = items[0]\n",
    "    vector = list(map(float, items[1:]))\n",
    "    glove[word] = vector\n",
    "\n",
    "def build_vocab(path, min_word_count = 20):\n",
    "\tcounter = Counter()\n",
    "\n",
    "\twith open(path, 'r') as f:\n",
    "\t\tlines = f.readlines()\n",
    "\tprocessedLines = [gensim.utils.simple_preprocess(sentence,min_len=1) for sentence in lines]\n",
    "\tfor line in processedLines:\n",
    "\t\tcounter.update(line)\n",
    "\t#initialise a dictionary or look up table\n",
    "\tword2id = {}\n",
    "\tword2id['<pad>'] = 0\n",
    "\tword2id['<unk>'] = 1\n",
    "\t# include only those in dictionary which have occered more than min word count in the entire data.\n",
    "\twords = [word for word, count in counter.items() if count>min_word_count]\n",
    "\n",
    "\tfor i, word in enumerate(words):\n",
    "\t\tword2id[word] = i+2\n",
    "\treturn word2id\n",
    "\n",
    "\n",
    "word2id = build_vocab(train_path)\n",
    "print(\"Dictionary Formed and saved. The length of dictionary is-: \", len(word2id))"
   ]
  },
  {
   "cell_type": "code",
   "execution_count": 13,
   "metadata": {},
   "outputs": [],
   "source": [
    "\n",
    "from torch.utils.data import Dataset, DataLoader\n",
    "class Dataset_seq(Dataset):\n",
    "\tdef __init__(self, word2id, train_path):\n",
    "\t\tself.word2id = word2id\n",
    "\t\tself.train_path = train_path\n",
    "\t\t# read the data and label \n",
    "\n",
    "\t\twith open(train_path, 'r') as f:\n",
    "\t\t\tlines = f.readlines()\n",
    "\t\tprocessedLines = [gensim.utils.simple_preprocess(sentence,min_len=1) for sentence in lines]\n",
    "\t\tself.data = processedLines\n",
    "\t\tself.X = []\n",
    "\t\tself.Y = []\n",
    "\t\tfor sent in self.data:\n",
    "\n",
    "\t\t\tif len(sent) > sequence_length:\n",
    "\t\t\t\tfor j in range(len(sent)//sequence_length):\n",
    "\t\t\t\t\tself.X.append(sent[j*sequence_length:(j+1)*sequence_length])\n",
    "\n",
    "\t\t\telif len(sent) < sequence_length:\n",
    "\t\t\t\tself.X.append(sent + (sequence_length - len(sent)) * ['<pad>'])\n",
    "\t\t\n",
    "\n",
    "\n",
    "\tdef __getitem__(self, index):\n",
    "\t\t# return the seq and label \n",
    "\t\treturn seq, \n",
    "\n",
    "\tdef __len__(self):\n",
    "\t\treturn(len(self.data))\n",
    "\n",
    "q = Dataset_seq(word2id, train_path)\n"
   ]
  },
  {
   "cell_type": "code",
   "execution_count": 16,
   "metadata": {},
   "outputs": [
    {
     "name": "stdout",
     "output_type": "stream",
     "text": [
      "['try', 'something', 'if', 'you', 're', 'in', 'the', 'area', 'but', 'you', 'll', 'want', 'to', 'get', 'there', 'early', 'as', 'like', 'many', 'bakeries']\n"
     ]
    }
   ],
   "source": [
    "print(q.X[11])"
   ]
  },
  {
   "cell_type": "code",
   "execution_count": 5,
   "metadata": {},
   "outputs": [],
   "source": [
    "import torch.nn as nn \n",
    "class Bi_RNN(nn.Module):\n",
    "\n",
    "    def __init__(self, input_dim, hidden_dim, batch_size, output_dim=11, num_layers=2):\n",
    "        super(Bi_RNN, self).__init__()\n",
    "        self.input_dim = input_dim\n",
    "        self.hidden_dim = hidden_dim\n",
    "        self.batch_size = batch_size\n",
    "        self.num_layers = num_layers\n",
    "\n",
    "\n",
    "        # Define the LSTM layer\n",
    "        self.lstm = nn.LSTM(self.input_dim, self.hidden_dim, self.num_layers, batch_first=True, bidirectional=True)\n",
    "\n",
    "        # Define the output layer\n",
    "        self.linear = nn.Linear(self.hidden_dim * 2, output_dim)\n",
    "\n",
    "\n",
    "    def forward(self, input):\n",
    "        #Forward pass through initial hidden layer\n",
    "        linear_input = self.init_linear(input)\n",
    "\n",
    "        # Forward pass through LSTM layer\n",
    "        # shape of lstm_out: [batch_size, input_size ,hidden_dim]\n",
    "        # shape of self.hidden: (a, b), where a and b both\n",
    "        # have shape (batch_size, num_layers, hidden_dim).\n",
    "        lstm_out, self.hidden = self.lstm(linear_input)\n",
    "\n",
    "        # Can pass on the entirety of lstm_out to the next layer if it is a seq2seq prediction\n",
    "        y_pred = self.linear(lstm_out)\n",
    "        return F.log_softmax(y_pred, dim=1), self.hidden"
   ]
  }
 ],
 "metadata": {
  "kernelspec": {
   "display_name": "Python 3.9.12 ('base')",
   "language": "python",
   "name": "python3"
  },
  "language_info": {
   "codemirror_mode": {
    "name": "ipython",
    "version": 3
   },
   "file_extension": ".py",
   "mimetype": "text/x-python",
   "name": "python",
   "nbconvert_exporter": "python",
   "pygments_lexer": "ipython3",
   "version": "3.9.12"
  },
  "orig_nbformat": 4,
  "vscode": {
   "interpreter": {
    "hash": "bdd9074d09183e8bc0025300cef7a83eb88924cf0a158e90afa6b5f04cbbd876"
   }
  }
 },
 "nbformat": 4,
 "nbformat_minor": 2
}
