{
 "cells": [
  {
   "cell_type": "code",
   "execution_count": 7,
   "metadata": {},
   "outputs": [
    {
     "name": "stdout",
     "output_type": "stream",
     "text": [
      "Dictionary Formed and saved. The length of dictionary is-:  19595\n"
     ]
    }
   ],
   "source": [
    "import os\n",
    "import gensim\n",
    "from collections import Counter\n",
    "import json\n",
    "import torch\n",
    "\n",
    "\n",
    "train_path = \"./Dataset/yelp-subset.train.csv\"\n",
    "test_path = \"./Dataset/yelp-subset.test.csv\"\n",
    "#setup Glove word embeddings\n",
    "with open('glove.6B/glove.6B.50d.txt', 'r') as f:\n",
    "    lines = f.readlines()\n",
    "\n",
    "glove = dict()\n",
    "\n",
    "for line in lines:\n",
    "    items = line.split()\n",
    "    word = items[0]\n",
    "    vector = list(map(float, items[1:]))\n",
    "    glove[word] = vector\n",
    "\n",
    "def build_vocab(path, min_word_count = 5):\n",
    "\tcounter = Counter()\n",
    "\n",
    "\twith open(path, 'r') as f:\n",
    "\t\tlines = f.readlines()\n",
    "\tprocessedLines = [gensim.utils.simple_preprocess(sentence,min_len=1) for sentence in lines]\n",
    "\tfor line in processedLines:\n",
    "\t\tcounter.update(line)\n",
    "\t#initialise a dictionary or look up table\n",
    "\tword2id = {}\n",
    "\tword2id['<pad>'] = 0\n",
    "\tword2id['<unk>'] = 1\n",
    "\t# include only those in dictionary which have occered more than min word count in the entire data.\n",
    "\twords = [word for word, count in counter.items() if count>min_word_count]\n",
    "\n",
    "\tfor i, word in enumerate(words):\n",
    "\t\tword2id[word] = i+2\n",
    "\treturn word2id\n",
    "\n",
    "\n",
    "word2id = build_vocab(train_path)\n",
    "print(\"Dictionary Formed and saved. The length of dictionary is-: \", len(word2id))"
   ]
  },
  {
   "cell_type": "code",
   "execution_count": 12,
   "metadata": {},
   "outputs": [
    {
     "name": "stdout",
     "output_type": "stream",
     "text": [
      "['i', 'love', 'this', 'place', 'the', 'best', 'dim', 'sum', 'in', 'chandler', 'my', 'service', 'was', 'exceptional', 'i', 'even', 'went', 'on', 'lunchtime', 'on', 'a', 'friday', 'with', 'my', 'boyfriend', 'it', 'was', 'priced', 'fairly', 'good', 'we', 'both', 'gorged', 'ourselves', 'on', 'less', 'than', 'not', 'too', 'sure', 'about', 'the', 'pink', 'tablecloths', 'or', 'the', 'giant', 'lobster', 'tank', 'but', 'overall', 'it', 'was', 'delicious']\n"
     ]
    }
   ],
   "source": [
    "from torch.utils.data import Dataset, DataLoader\n",
    "class Dataset_seq(Dataset):\n",
    "\tdef __init__(self, word2id, train_path):\n",
    "\t\tself.word2id = word2id\n",
    "\t\tself.train_path = train_path\n",
    "\t\t# read the data and label \n",
    "\t\twith open(train_path, 'r') as f:\n",
    "\t\t\tlines = f.readlines()\n",
    "\t\tprocessedLines = [gensim.utils.simple_preprocess(sentence,min_len=1) for sentence in lines]\n",
    "\t\tself.data = processedLines\n",
    "\t\tprint(self.data[3])\n",
    "\n",
    "\tdef __getitem__(self, index):\n",
    "\t\t# return the seq and label \n",
    "\t\tseq = self.preprocess(self.data[index])\n",
    "\t\tlabel = self.label[index]\n",
    "\t\treturn seq, label\n",
    "\n",
    "\tdef __len__(self):\n",
    "\t\treturn(len(self.data))\n",
    "\n",
    "q = Dataset_seq(word2id, train_path)\n"
   ]
  },
  {
   "cell_type": "code",
   "execution_count": null,
   "metadata": {},
   "outputs": [],
   "source": []
  }
 ],
 "metadata": {
  "kernelspec": {
   "display_name": "Python 3.9.12 ('base')",
   "language": "python",
   "name": "python3"
  },
  "language_info": {
   "codemirror_mode": {
    "name": "ipython",
    "version": 3
   },
   "file_extension": ".py",
   "mimetype": "text/x-python",
   "name": "python",
   "nbconvert_exporter": "python",
   "pygments_lexer": "ipython3",
   "version": "3.9.12"
  },
  "orig_nbformat": 4,
  "vscode": {
   "interpreter": {
    "hash": "bdd9074d09183e8bc0025300cef7a83eb88924cf0a158e90afa6b5f04cbbd876"
   }
  }
 },
 "nbformat": 4,
 "nbformat_minor": 2
}
